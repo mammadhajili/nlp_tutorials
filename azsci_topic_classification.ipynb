{
  "nbformat": 4,
  "nbformat_minor": 0,
  "metadata": {
    "colab": {
      "provenance": [],
      "gpuType": "V100",
      "authorship_tag": "ABX9TyNpfV1eXPqoSt8p6WtmX7jR",
      "include_colab_link": true
    },
    "kernelspec": {
      "name": "python3",
      "display_name": "Python 3"
    },
    "language_info": {
      "name": "python"
    },
    "accelerator": "GPU",
    "widgets": {
      "application/vnd.jupyter.widget-state+json": {
        "2ecafc7575f048f4a11cf027f0367ef5": {
          "model_module": "@jupyter-widgets/controls",
          "model_name": "HBoxModel",
          "model_module_version": "1.5.0",
          "state": {
            "_dom_classes": [],
            "_model_module": "@jupyter-widgets/controls",
            "_model_module_version": "1.5.0",
            "_model_name": "HBoxModel",
            "_view_count": null,
            "_view_module": "@jupyter-widgets/controls",
            "_view_module_version": "1.5.0",
            "_view_name": "HBoxView",
            "box_style": "",
            "children": [
              "IPY_MODEL_ec2a011995d3481b847c03077aab556d",
              "IPY_MODEL_e8cc982ae106499097ce529dbba9972d",
              "IPY_MODEL_b3f75c06a9734ffd8ae52c1d729fb0ea"
            ],
            "layout": "IPY_MODEL_7cde99f540ac4b37a3910784df85c565"
          }
        },
        "ec2a011995d3481b847c03077aab556d": {
          "model_module": "@jupyter-widgets/controls",
          "model_name": "HTMLModel",
          "model_module_version": "1.5.0",
          "state": {
            "_dom_classes": [],
            "_model_module": "@jupyter-widgets/controls",
            "_model_module_version": "1.5.0",
            "_model_name": "HTMLModel",
            "_view_count": null,
            "_view_module": "@jupyter-widgets/controls",
            "_view_module_version": "1.5.0",
            "_view_name": "HTMLView",
            "description": "",
            "description_tooltip": null,
            "layout": "IPY_MODEL_0630968daff4417b94e56389f853db26",
            "placeholder": "​",
            "style": "IPY_MODEL_a7d01f597e934e20b17ab7b9a2c64867",
            "value": "Map: 100%"
          }
        },
        "e8cc982ae106499097ce529dbba9972d": {
          "model_module": "@jupyter-widgets/controls",
          "model_name": "FloatProgressModel",
          "model_module_version": "1.5.0",
          "state": {
            "_dom_classes": [],
            "_model_module": "@jupyter-widgets/controls",
            "_model_module_version": "1.5.0",
            "_model_name": "FloatProgressModel",
            "_view_count": null,
            "_view_module": "@jupyter-widgets/controls",
            "_view_module_version": "1.5.0",
            "_view_name": "ProgressView",
            "bar_style": "success",
            "description": "",
            "description_tooltip": null,
            "layout": "IPY_MODEL_0662aefbadbc4496b203c6d06da3cd44",
            "max": 1152,
            "min": 0,
            "orientation": "horizontal",
            "style": "IPY_MODEL_7bb4d6bd033549758d4b1b73b3c80889",
            "value": 1152
          }
        },
        "b3f75c06a9734ffd8ae52c1d729fb0ea": {
          "model_module": "@jupyter-widgets/controls",
          "model_name": "HTMLModel",
          "model_module_version": "1.5.0",
          "state": {
            "_dom_classes": [],
            "_model_module": "@jupyter-widgets/controls",
            "_model_module_version": "1.5.0",
            "_model_name": "HTMLModel",
            "_view_count": null,
            "_view_module": "@jupyter-widgets/controls",
            "_view_module_version": "1.5.0",
            "_view_name": "HTMLView",
            "description": "",
            "description_tooltip": null,
            "layout": "IPY_MODEL_3d1906110fd1478e949b67535c60bd2e",
            "placeholder": "​",
            "style": "IPY_MODEL_f93de1e68aea454fad01b29cab0a6b68",
            "value": " 1152/1152 [00:00&lt;00:00, 1075.85 examples/s]"
          }
        },
        "7cde99f540ac4b37a3910784df85c565": {
          "model_module": "@jupyter-widgets/base",
          "model_name": "LayoutModel",
          "model_module_version": "1.2.0",
          "state": {
            "_model_module": "@jupyter-widgets/base",
            "_model_module_version": "1.2.0",
            "_model_name": "LayoutModel",
            "_view_count": null,
            "_view_module": "@jupyter-widgets/base",
            "_view_module_version": "1.2.0",
            "_view_name": "LayoutView",
            "align_content": null,
            "align_items": null,
            "align_self": null,
            "border": null,
            "bottom": null,
            "display": null,
            "flex": null,
            "flex_flow": null,
            "grid_area": null,
            "grid_auto_columns": null,
            "grid_auto_flow": null,
            "grid_auto_rows": null,
            "grid_column": null,
            "grid_gap": null,
            "grid_row": null,
            "grid_template_areas": null,
            "grid_template_columns": null,
            "grid_template_rows": null,
            "height": null,
            "justify_content": null,
            "justify_items": null,
            "left": null,
            "margin": null,
            "max_height": null,
            "max_width": null,
            "min_height": null,
            "min_width": null,
            "object_fit": null,
            "object_position": null,
            "order": null,
            "overflow": null,
            "overflow_x": null,
            "overflow_y": null,
            "padding": null,
            "right": null,
            "top": null,
            "visibility": null,
            "width": null
          }
        },
        "0630968daff4417b94e56389f853db26": {
          "model_module": "@jupyter-widgets/base",
          "model_name": "LayoutModel",
          "model_module_version": "1.2.0",
          "state": {
            "_model_module": "@jupyter-widgets/base",
            "_model_module_version": "1.2.0",
            "_model_name": "LayoutModel",
            "_view_count": null,
            "_view_module": "@jupyter-widgets/base",
            "_view_module_version": "1.2.0",
            "_view_name": "LayoutView",
            "align_content": null,
            "align_items": null,
            "align_self": null,
            "border": null,
            "bottom": null,
            "display": null,
            "flex": null,
            "flex_flow": null,
            "grid_area": null,
            "grid_auto_columns": null,
            "grid_auto_flow": null,
            "grid_auto_rows": null,
            "grid_column": null,
            "grid_gap": null,
            "grid_row": null,
            "grid_template_areas": null,
            "grid_template_columns": null,
            "grid_template_rows": null,
            "height": null,
            "justify_content": null,
            "justify_items": null,
            "left": null,
            "margin": null,
            "max_height": null,
            "max_width": null,
            "min_height": null,
            "min_width": null,
            "object_fit": null,
            "object_position": null,
            "order": null,
            "overflow": null,
            "overflow_x": null,
            "overflow_y": null,
            "padding": null,
            "right": null,
            "top": null,
            "visibility": null,
            "width": null
          }
        },
        "a7d01f597e934e20b17ab7b9a2c64867": {
          "model_module": "@jupyter-widgets/controls",
          "model_name": "DescriptionStyleModel",
          "model_module_version": "1.5.0",
          "state": {
            "_model_module": "@jupyter-widgets/controls",
            "_model_module_version": "1.5.0",
            "_model_name": "DescriptionStyleModel",
            "_view_count": null,
            "_view_module": "@jupyter-widgets/base",
            "_view_module_version": "1.2.0",
            "_view_name": "StyleView",
            "description_width": ""
          }
        },
        "0662aefbadbc4496b203c6d06da3cd44": {
          "model_module": "@jupyter-widgets/base",
          "model_name": "LayoutModel",
          "model_module_version": "1.2.0",
          "state": {
            "_model_module": "@jupyter-widgets/base",
            "_model_module_version": "1.2.0",
            "_model_name": "LayoutModel",
            "_view_count": null,
            "_view_module": "@jupyter-widgets/base",
            "_view_module_version": "1.2.0",
            "_view_name": "LayoutView",
            "align_content": null,
            "align_items": null,
            "align_self": null,
            "border": null,
            "bottom": null,
            "display": null,
            "flex": null,
            "flex_flow": null,
            "grid_area": null,
            "grid_auto_columns": null,
            "grid_auto_flow": null,
            "grid_auto_rows": null,
            "grid_column": null,
            "grid_gap": null,
            "grid_row": null,
            "grid_template_areas": null,
            "grid_template_columns": null,
            "grid_template_rows": null,
            "height": null,
            "justify_content": null,
            "justify_items": null,
            "left": null,
            "margin": null,
            "max_height": null,
            "max_width": null,
            "min_height": null,
            "min_width": null,
            "object_fit": null,
            "object_position": null,
            "order": null,
            "overflow": null,
            "overflow_x": null,
            "overflow_y": null,
            "padding": null,
            "right": null,
            "top": null,
            "visibility": null,
            "width": null
          }
        },
        "7bb4d6bd033549758d4b1b73b3c80889": {
          "model_module": "@jupyter-widgets/controls",
          "model_name": "ProgressStyleModel",
          "model_module_version": "1.5.0",
          "state": {
            "_model_module": "@jupyter-widgets/controls",
            "_model_module_version": "1.5.0",
            "_model_name": "ProgressStyleModel",
            "_view_count": null,
            "_view_module": "@jupyter-widgets/base",
            "_view_module_version": "1.2.0",
            "_view_name": "StyleView",
            "bar_color": null,
            "description_width": ""
          }
        },
        "3d1906110fd1478e949b67535c60bd2e": {
          "model_module": "@jupyter-widgets/base",
          "model_name": "LayoutModel",
          "model_module_version": "1.2.0",
          "state": {
            "_model_module": "@jupyter-widgets/base",
            "_model_module_version": "1.2.0",
            "_model_name": "LayoutModel",
            "_view_count": null,
            "_view_module": "@jupyter-widgets/base",
            "_view_module_version": "1.2.0",
            "_view_name": "LayoutView",
            "align_content": null,
            "align_items": null,
            "align_self": null,
            "border": null,
            "bottom": null,
            "display": null,
            "flex": null,
            "flex_flow": null,
            "grid_area": null,
            "grid_auto_columns": null,
            "grid_auto_flow": null,
            "grid_auto_rows": null,
            "grid_column": null,
            "grid_gap": null,
            "grid_row": null,
            "grid_template_areas": null,
            "grid_template_columns": null,
            "grid_template_rows": null,
            "height": null,
            "justify_content": null,
            "justify_items": null,
            "left": null,
            "margin": null,
            "max_height": null,
            "max_width": null,
            "min_height": null,
            "min_width": null,
            "object_fit": null,
            "object_position": null,
            "order": null,
            "overflow": null,
            "overflow_x": null,
            "overflow_y": null,
            "padding": null,
            "right": null,
            "top": null,
            "visibility": null,
            "width": null
          }
        },
        "f93de1e68aea454fad01b29cab0a6b68": {
          "model_module": "@jupyter-widgets/controls",
          "model_name": "DescriptionStyleModel",
          "model_module_version": "1.5.0",
          "state": {
            "_model_module": "@jupyter-widgets/controls",
            "_model_module_version": "1.5.0",
            "_model_name": "DescriptionStyleModel",
            "_view_count": null,
            "_view_module": "@jupyter-widgets/base",
            "_view_module_version": "1.2.0",
            "_view_name": "StyleView",
            "description_width": ""
          }
        }
      }
    }
  },
  "cells": [
    {
      "cell_type": "markdown",
      "metadata": {
        "id": "view-in-github",
        "colab_type": "text"
      },
      "source": [
        "<a href=\"https://colab.research.google.com/github/mammadhajili/nlp_tutorials/blob/main/azsci_topic_classification.ipynb\" target=\"_parent\"><img src=\"https://colab.research.google.com/assets/colab-badge.svg\" alt=\"Open In Colab\"/></a>"
      ]
    },
    {
      "cell_type": "markdown",
      "source": [
        "## Elmi mətnlərin mövzular üzrə sinifləndirilməsi\n",
        "\n",
        "Mən bu Jupyter dəftərində öyrədilmiş (pre-trained) transformer modelinin verilən\n",
        "data toplusu əsasında mətn sinifləndirilməsi tapşırığı üçün sazlanma(fine-tune) prosesini göstərəcəm. Bunun üçün seçdiyim data toplusu Azərbaycan universitet və institutlarında müdafiə edilmiş dissertasiyaların başlıqları və onların aid olduğu elmi sahələrdir. Sinifləndirmə əməliyyatında başlıqlar verilən mətni, elmi sahələr isə mövzuları, yəni sinifləri ifadə edir.\n",
        "\n",
        "Dəftərdə icra etdiyim əməliyyatları mərhələlər daha aydın bölünsün deyə 7 fərqli hissəyə ayırdım. Datanın yükləmək və prosesi, öyrədilmiş modelin təyini, sazlanması proseslərinin hamısı HuggingFace kitabxanalarının əsasında aparılmışdır.\n"
      ],
      "metadata": {
        "id": "bGJJkTNqMsS8"
      }
    },
    {
      "cell_type": "markdown",
      "source": [
        "## Kitabxanaların yüklənməsi"
      ],
      "metadata": {
        "id": "3ruLcA9vLjPA"
      }
    },
    {
      "cell_type": "markdown",
      "source": [
        "İlkin olaraq istifadə olunan kitabxanaları yükləmək lazımdır.\n",
        "\n",
        "- Data üzərində əməliyyatlar üçün `datasets` kitabxanası\n",
        "- Modelin təyini və sazlanma prosesi üçün `transformers[torch]` kitabxanası. Mən sazlanma əməliyyatlarını `PyTorch` əsaslı aparmaq istədiyimə görə `tranformers` modelinin `torch` əlavəsini istifadə etdim. Siz istəyinizə uyğun olaraq `Tensorflow` əsaslı versiyanı da istifadə edə bilərsiniz, ancaq ona uyğun olaraq göstərəcəyim kodun çox hissəsi dəyişməli olacaq."
      ],
      "metadata": {
        "id": "dgZ_hM4aMkgv"
      }
    },
    {
      "cell_type": "code",
      "source": [
        "!pip install -U datasets\n",
        "!pip install -U transformers[torch]"
      ],
      "metadata": {
        "id": "j9-NkvFrbr1y"
      },
      "execution_count": null,
      "outputs": []
    },
    {
      "cell_type": "markdown",
      "source": [
        "## İstifadə ediləcək metodların və verilənlərin təyini"
      ],
      "metadata": {
        "id": "z7zxxaNuLmEY"
      }
    },
    {
      "cell_type": "code",
      "source": [
        "import numpy as np\n",
        "import pandas as pd\n",
        "from datasets import load_dataset, load_metric\n",
        "from huggingface_hub import notebook_login\n",
        "from sklearn.metrics import classification_report\n",
        "from transformers import AutoTokenizer, DataCollatorWithPadding, AutoModelForSequenceClassification, TrainingArguments, Trainer"
      ],
      "metadata": {
        "id": "Qo_IIl1pKNB_"
      },
      "execution_count": null,
      "outputs": []
    },
    {
      "cell_type": "code",
      "source": [
        "dataset = 'hajili/azsci_topics' # istifadə etdiyimiz HuggingFace data toplusu\n",
        "model_name = 'FacebookAI/xlm-roberta-base' # öyrədilmiş modelin HuggingFace qovluğu\n",
        "hf_output_directory = 'hajili/xlm-roberta-base-azsci-topics' # sazlanan modelin yükləyəcəyiniz qovluq"
      ],
      "metadata": {
        "id": "Rk1DknLCtJDm"
      },
      "execution_count": null,
      "outputs": []
    },
    {
      "cell_type": "markdown",
      "source": [
        "Sonda sazlanan modeli öz hesabınıza yükləmək üçün HuggingFace hesabınıza giriş edə bilərsiniz. `notebook_login()` metodu sizə HuggingFace tokeninizlə asan giriş etməyə imkan verir."
      ],
      "metadata": {
        "id": "gFL8hC-hUNK7"
      }
    },
    {
      "cell_type": "code",
      "source": [
        "notebook_login() # sonda sazlanan modeetmək üçün öz hesab"
      ],
      "metadata": {
        "id": "Whb1W-_XMAap"
      },
      "execution_count": null,
      "outputs": []
    },
    {
      "cell_type": "markdown",
      "source": [
        "## Data əməliyyatları"
      ],
      "metadata": {
        "id": "wqRINGuqMM5l"
      }
    },
    {
      "cell_type": "markdown",
      "source": [
        "Data toplusundakı dissertasiya başlıqları kifayət qədər təmiz olduğundan mətn üzərində minimal dəyişikliklər etdim. İlkin olaraq datanı yükləyib onu randomizasiya sabit qalsın deyə eyni `seed` ilə öyrənmə və test datalarına bölürük. Seçilən `42` adətən universal sabit kimi qəbul edilir, riyaziyyatla əlaqəli olmayan izah üçün: [42 və Avtostopçunun qalaktika bələdçisi](https://www.dictionary.com/e/slang/42/)"
      ],
      "metadata": {
        "id": "8uWk7ZbVUt9L"
      }
    },
    {
      "cell_type": "code",
      "execution_count": null,
      "metadata": {
        "id": "TgHOS6BMaxga"
      },
      "outputs": [],
      "source": [
        "data = load_dataset(dataset, split='train')\n",
        "data = data.train_test_split(test_size=0.2, seed=42)\n",
        "data = data.filter(lambda d: d['title']) # boş başlıqların təmizlənməsi.\n",
        "\n",
        "train = data['train']\n",
        "test = data['test']"
      ]
    },
    {
      "cell_type": "code",
      "source": [
        "train"
      ],
      "metadata": {
        "colab": {
          "base_uri": "https://localhost:8080/"
        },
        "id": "SBV4BSzTmSKI",
        "outputId": "29b4cdca-c9f4-41b3-b4f1-9df2adea3d50"
      },
      "execution_count": null,
      "outputs": [
        {
          "output_type": "execute_result",
          "data": {
            "text/plain": [
              "Dataset({\n",
              "    features: ['title', 'topic', 'subtopic'],\n",
              "    num_rows: 4604\n",
              "})"
            ]
          },
          "metadata": {},
          "execution_count": 4
        }
      ]
    },
    {
      "cell_type": "code",
      "source": [
        "test"
      ],
      "metadata": {
        "colab": {
          "base_uri": "https://localhost:8080/"
        },
        "id": "4m7GyCJDmS_y",
        "outputId": "c6f90309-9949-4225-8a9e-8c07dac32927"
      },
      "execution_count": null,
      "outputs": [
        {
          "output_type": "execute_result",
          "data": {
            "text/plain": [
              "Dataset({\n",
              "    features: ['title', 'topic', 'subtopic'],\n",
              "    num_rows: 1152\n",
              "})"
            ]
          },
          "metadata": {},
          "execution_count": 5
        }
      ]
    },
    {
      "cell_type": "markdown",
      "source": [
        "Mövzu üzrə sinifləndirmə üçün nisbətən daha az sayda olan `topic` üzrə etdim. `subtopic` yəni alt mövzular iyerarxik sinifləndirmə üzrə oxucu üçün maraqlı tapşırıq ola bilər.\n",
        "\n",
        "Sinifləri müəyyən etmək üçün data toplusundakı bütün mövzuları təyin etmək lazımdır. Aşağıdakı əməliyyat data toplusundakı bütün mövzuları əlifba ardıcılığı ilə sıralayır."
      ],
      "metadata": {
        "id": "46YMrgKUWRu8"
      }
    },
    {
      "cell_type": "code",
      "source": [
        "all_topics = sorted(list(set(train['topic']) | set(test['topic'])))\n",
        "all_topics"
      ],
      "metadata": {
        "colab": {
          "base_uri": "https://localhost:8080/"
        },
        "id": "mAqz4gFmnc2h",
        "outputId": "cff868cb-e89c-4b9c-ce7e-f35853bb0141"
      },
      "execution_count": null,
      "outputs": [
        {
          "output_type": "execute_result",
          "data": {
            "text/plain": [
              "['Aqrar elmlər',\n",
              " 'Astronomiya',\n",
              " 'Biologiya elmləri',\n",
              " 'Coğrafiya',\n",
              " 'Filologiya elmləri',\n",
              " 'Fizika',\n",
              " 'Fəlsəfə',\n",
              " 'Hüquq elmləri',\n",
              " 'Kimya',\n",
              " 'Memarlıq',\n",
              " 'Mexanika',\n",
              " 'Pedaqogika',\n",
              " 'Psixologiya',\n",
              " 'Riyaziyyat',\n",
              " 'Siyasi elmlər',\n",
              " 'Sosiologiya',\n",
              " 'Sənətşünaslıq',\n",
              " 'Tarix',\n",
              " 'Texnika elmləri',\n",
              " 'Tibb elmləri',\n",
              " 'Yer elmləri',\n",
              " 'İqtisad elmləri',\n",
              " 'Əczaçılıq elmləri']"
            ]
          },
          "metadata": {},
          "execution_count": 6
        }
      ]
    },
    {
      "cell_type": "markdown",
      "source": [
        "Əlavə olaraq sazlama zamanı sinifləri `[0, #Mövzu-1]` aralığına uyğun təyin etdiyimizə görə mövzuları öz indekslərinə uyğunlaşdırırıq."
      ],
      "metadata": {
        "id": "IVFRsfGaYmVH"
      }
    },
    {
      "cell_type": "code",
      "source": [
        "topic_to_label = {k: v for v, k in enumerate(all_topics)}\n",
        "topic_to_label"
      ],
      "metadata": {
        "colab": {
          "base_uri": "https://localhost:8080/"
        },
        "id": "MwhmbxxkodV4",
        "outputId": "033c6111-dbf3-4fed-9148-e242b469c3b3"
      },
      "execution_count": null,
      "outputs": [
        {
          "output_type": "execute_result",
          "data": {
            "text/plain": [
              "{'Aqrar elmlər': 0,\n",
              " 'Astronomiya': 1,\n",
              " 'Biologiya elmləri': 2,\n",
              " 'Coğrafiya': 3,\n",
              " 'Filologiya elmləri': 4,\n",
              " 'Fizika': 5,\n",
              " 'Fəlsəfə': 6,\n",
              " 'Hüquq elmləri': 7,\n",
              " 'Kimya': 8,\n",
              " 'Memarlıq': 9,\n",
              " 'Mexanika': 10,\n",
              " 'Pedaqogika': 11,\n",
              " 'Psixologiya': 12,\n",
              " 'Riyaziyyat': 13,\n",
              " 'Siyasi elmlər': 14,\n",
              " 'Sosiologiya': 15,\n",
              " 'Sənətşünaslıq': 16,\n",
              " 'Tarix': 17,\n",
              " 'Texnika elmləri': 18,\n",
              " 'Tibb elmləri': 19,\n",
              " 'Yer elmləri': 20,\n",
              " 'İqtisad elmləri': 21,\n",
              " 'Əczaçılıq elmləri': 22}"
            ]
          },
          "metadata": {},
          "execution_count": 8
        }
      ]
    },
    {
      "cell_type": "markdown",
      "source": [
        "Data toplusunda indekslərin əsasında `label` adlı yeni verilən təyin edirik. `label` sazlama zamanı modelin çıxış qatındakı nəticənin indeksini bildirəcək."
      ],
      "metadata": {
        "id": "q2zhWBAzYsIa"
      }
    },
    {
      "cell_type": "code",
      "source": [
        "train = train.map(lambda t: {'label': topic_to_label[t['topic']]})\n",
        "test = test.map(lambda t: {'label': topic_to_label[t['topic']]})"
      ],
      "metadata": {
        "id": "MA_AdQEXogav"
      },
      "execution_count": null,
      "outputs": []
    },
    {
      "cell_type": "code",
      "source": [
        "train[0]"
      ],
      "metadata": {
        "colab": {
          "base_uri": "https://localhost:8080/"
        },
        "id": "QmEsleX_rARM",
        "outputId": "5bc11dee-4964-4ca4-b05e-ba7249d78a88"
      },
      "execution_count": null,
      "outputs": [
        {
          "output_type": "execute_result",
          "data": {
            "text/plain": [
              "{'title': 'Azərbaycanda yayılan toksigen göbələklərin ekobioloji xüsusiyyətləri',\n",
              " 'topic': 'Biologiya elmləri',\n",
              " 'subtopic': 'Mikrobiologiya',\n",
              " 'label': 2}"
            ]
          },
          "metadata": {},
          "execution_count": 10
        }
      ]
    },
    {
      "cell_type": "code",
      "source": [
        "test[0]"
      ],
      "metadata": {
        "colab": {
          "base_uri": "https://localhost:8080/"
        },
        "id": "wcdJSGbWrCVe",
        "outputId": "f996e0fe-ef63-4dcd-89b7-8ac3e2c98c27"
      },
      "execution_count": null,
      "outputs": [
        {
          "output_type": "execute_result",
          "data": {
            "text/plain": [
              "{'title': 'Külək mühərriklərinin multiplikatorunun axtarışla konstruksiya edilməsi',\n",
              " 'topic': 'Texnika elmləri',\n",
              " 'subtopic': 'Maşinlar, avadanlıqlar və proseslər',\n",
              " 'label': 18}"
            ]
          },
          "metadata": {},
          "execution_count": 11
        }
      ]
    },
    {
      "cell_type": "markdown",
      "source": [
        "## Tokenlərə bölünmə"
      ],
      "metadata": {
        "id": "sLBfG-kYMEnV"
      }
    },
    {
      "cell_type": "markdown",
      "source": [
        "Tokenlərə bölünmə üçün istifadə etdiyimiz öyrədilmiş modelin öz token konfiqurasiyasını işlədirik."
      ],
      "metadata": {
        "id": "9_Vcara8ZXID"
      }
    },
    {
      "cell_type": "code",
      "source": [
        "tokenizer = AutoTokenizer.from_pretrained(model_name)"
      ],
      "metadata": {
        "id": "-DfLZm8vmUJQ"
      },
      "execution_count": null,
      "outputs": []
    },
    {
      "cell_type": "code",
      "source": [
        "def tokenize_data(data):\n",
        "    return tokenizer(data[\"title\"], truncation=True)"
      ],
      "metadata": {
        "id": "lQ6wMx3CnXvH"
      },
      "execution_count": null,
      "outputs": []
    },
    {
      "cell_type": "code",
      "source": [
        "train = train.map(tokenize_data)\n",
        "test = test.map(tokenize_data)"
      ],
      "metadata": {
        "colab": {
          "base_uri": "https://localhost:8080/",
          "height": 49,
          "referenced_widgets": [
            "2ecafc7575f048f4a11cf027f0367ef5",
            "ec2a011995d3481b847c03077aab556d",
            "e8cc982ae106499097ce529dbba9972d",
            "b3f75c06a9734ffd8ae52c1d729fb0ea",
            "7cde99f540ac4b37a3910784df85c565",
            "0630968daff4417b94e56389f853db26",
            "a7d01f597e934e20b17ab7b9a2c64867",
            "0662aefbadbc4496b203c6d06da3cd44",
            "7bb4d6bd033549758d4b1b73b3c80889",
            "3d1906110fd1478e949b67535c60bd2e",
            "f93de1e68aea454fad01b29cab0a6b68"
          ]
        },
        "id": "_zhOd8V9te6E",
        "outputId": "684d2084-bb19-471e-f4ce-b41619a8368c"
      },
      "execution_count": null,
      "outputs": [
        {
          "output_type": "display_data",
          "data": {
            "text/plain": [
              "Map:   0%|          | 0/1152 [00:00<?, ? examples/s]"
            ],
            "application/vnd.jupyter.widget-view+json": {
              "version_major": 2,
              "version_minor": 0,
              "model_id": "2ecafc7575f048f4a11cf027f0367ef5"
            }
          },
          "metadata": {}
        }
      ]
    },
    {
      "cell_type": "code",
      "source": [
        "test"
      ],
      "metadata": {
        "colab": {
          "base_uri": "https://localhost:8080/"
        },
        "id": "FdFeKuy1M29o",
        "outputId": "d91252f3-c254-495b-e300-6e17a2a4d178"
      },
      "execution_count": null,
      "outputs": [
        {
          "output_type": "execute_result",
          "data": {
            "text/plain": [
              "Dataset({\n",
              "    features: ['title', 'topic', 'subtopic', 'label', 'input_ids', 'attention_mask'],\n",
              "    num_rows: 1152\n",
              "})"
            ]
          },
          "metadata": {},
          "execution_count": 15
        }
      ]
    },
    {
      "cell_type": "markdown",
      "source": [
        "Adətən data toplusunda mətn uzunluğu və buna uyğun olaraq token sayı müxtəlif saylarda olur. Modelin sazlanması prosesi datanı hissələrə (`batch`) bölərək icra edilir. Hər hansı verilən bir hissədə token saylarını eyniləşdirmək üçün `padding` yəni təyin edilmiş eyni tokenləri əlavə etmə əməliyyatı edilir. Bunu təyin etmək üçün `transformer` kitabxanasında `DataCollatorWithPadding` modulundan istifadə etmək olar."
      ],
      "metadata": {
        "id": "yX8folA-acxP"
      }
    },
    {
      "cell_type": "code",
      "source": [
        "data_collator = DataCollatorWithPadding(tokenizer=tokenizer)"
      ],
      "metadata": {
        "id": "y4WBbrSiwbDE"
      },
      "execution_count": null,
      "outputs": []
    },
    {
      "cell_type": "markdown",
      "source": [
        "## Sazlama\n"
      ],
      "metadata": {
        "id": "EIV59tIZMlcN"
      }
    },
    {
      "cell_type": "markdown",
      "source": [
        "İlkin olaraq modeli təyin edirik. Əsas olaraq götürdüyümüz modellər adətən çoxdilli data ilə öyrədilir. Mənim bildiyim sırf Azərbaycan dili üçün öyrədilmiş yaxşı işləyən transformer əsaslı model yoxdu. Ona görə mən eksperimentlərimdə `xlm-roberta-base`, `xlm-roberta-large` və `mdeberta-v3-base` modellərindən istifadə etdim.\n",
        "\n",
        "\n",
        "`AutoModelForSequenceClassification` öyrədilmiş modelin üzərində sinifləndirmə modulu ilə birlikdə təyin edilməsinə və son qatında sinif sayına uyğun olaraq neçə neyronun olacağının göstərilməsinə imkan verir."
      ],
      "metadata": {
        "id": "pinTTzafb_R7"
      }
    },
    {
      "cell_type": "code",
      "source": [
        "model = AutoModelForSequenceClassification.from_pretrained(model_name, num_labels=len(all_topics))"
      ],
      "metadata": {
        "id": "7TUliH0Uwe9k"
      },
      "execution_count": null,
      "outputs": []
    },
    {
      "cell_type": "markdown",
      "source": [
        "Sazlama zamanı modelin perfomansının ölçülməsi üçün `compute_metrics` metodu təyin edirik. Bu metod ilə `precision`, `recall`, `f1` və `accuracy` dəyərlərini hesablayırıq. Bu dəyərlərin ilk üçünü siniflərin data toplusunda saylarına uyğun olaraq mütənasib hesablanması üçün `weighted` ortalama üsulundan istifadə edə bilərik."
      ],
      "metadata": {
        "id": "c-VLTfC7cl8r"
      }
    },
    {
      "cell_type": "code",
      "source": [
        "pre = load_metric(\"precision\", trust_remote_code=True)\n",
        "rec = load_metric(\"recall\", trust_remote_code=True)\n",
        "f1_ = load_metric(\"f1\", trust_remote_code=True)\n",
        "acc = load_metric(\"accuracy\", trust_remote_code=True)\n",
        "\n",
        "def compute_metrics(eval_pred):\n",
        "    logits, labels = eval_pred\n",
        "    predictions = np.argmax(logits, axis=-1)\n",
        "    precision = pre.compute(predictions=predictions, references=labels, average=\"weighted\")[\"precision\"]\n",
        "    recall = rec.compute(predictions=predictions, references=labels, average=\"weighted\")[\"recall\"]\n",
        "    f1 = f1_.compute(predictions=predictions, references=labels, average=\"weighted\")[\"f1\"]\n",
        "    accuracy = acc.compute(predictions=predictions, references=labels)[\"accuracy\"]\n",
        "    res = {\"precision\": precision, \"recall\": recall, \"f1\": f1, \"accuracy\": accuracy}\n",
        "    return res\n"
      ],
      "metadata": {
        "id": "iguFj-cCzhAX"
      },
      "execution_count": null,
      "outputs": []
    },
    {
      "cell_type": "markdown",
      "source": [
        "Sazlama arqumentlərinin təyini adətən eksperimentlərə uyğun olaraq aparılır, siz aşağıda verilənləri dəyişib yoxlaya da bilərsiniz.\n",
        "- Əməliyyatı icra etdiyiniz cihazın (GPU) yaddaşına uyğun olaraq `per_device_train_batch_size` və `per_device_eval_batch_size` dəyişib yoxlamaq olar.\n",
        "- Mənim eksperimentlərimdə bu data toplusunda əksər öyrədilmiş modellərdə 5 epoxadan sonra həddindən artıq öyrənmə baş verir.(`overfitting` demək istəyirəm, gülməyin)\n",
        "- Ən yaxşı modeli saxlamaq üçün `metric_for_best_model` və `greater_is_better` istifadə oluna bilər."
      ],
      "metadata": {
        "id": "OFBu-3tTdmWC"
      }
    },
    {
      "cell_type": "code",
      "source": [
        "training_args = TrainingArguments(\n",
        "    output_dir=f'./xlm-roberta-large-azsci-topics',\n",
        "    learning_rate=2e-5,\n",
        "    per_device_train_batch_size=16,\n",
        "    per_device_eval_batch_size=64,\n",
        "    num_train_epochs=5,\n",
        "    weight_decay=0.01,\n",
        "    evaluation_strategy='epoch',\n",
        "    save_strategy='epoch',\n",
        "    save_total_limit=1,\n",
        "    load_best_model_at_end=True,\n",
        "    metric_for_best_model=\"f1\",\n",
        "    greater_is_better=True\n",
        ")\n",
        "\n",
        "trainer = Trainer(\n",
        "    model=model,\n",
        "    args=training_args,\n",
        "    train_dataset=train,\n",
        "    eval_dataset=test,\n",
        "    tokenizer=tokenizer,\n",
        "    data_collator=data_collator,\n",
        "    compute_metrics=compute_metrics,\n",
        ")"
      ],
      "metadata": {
        "id": "cKGpYwetwuPT"
      },
      "execution_count": null,
      "outputs": []
    },
    {
      "cell_type": "code",
      "source": [
        "trainer.train()"
      ],
      "metadata": {
        "id": "PDFGpNqlyPUb"
      },
      "execution_count": null,
      "outputs": []
    },
    {
      "cell_type": "markdown",
      "source": [
        "## Qiymətləndirmə"
      ],
      "metadata": {
        "id": "5pQPjMU3OPep"
      }
    },
    {
      "cell_type": "markdown",
      "source": [
        "Sazlanmış modeli qiymətləndirmək üçün `.predict()` metodu ilə test data toplusunda sinifləndirməni icra etmək və doğru siniflər əsaslında nəticələri yoxlamaq lazımdır."
      ],
      "metadata": {
        "id": "EtWMl2XSgt2F"
      }
    },
    {
      "cell_type": "code",
      "source": [
        "training_results = trainer.predict(test)"
      ],
      "metadata": {
        "id": "VjMsH9T6E1vH"
      },
      "execution_count": null,
      "outputs": []
    },
    {
      "cell_type": "code",
      "source": [
        "logits, labels = training_results.predictions, training_results.label_ids\n",
        "predictions = np.argmax(logits, axis=-1)"
      ],
      "metadata": {
        "id": "kMBwZdyHE6gM"
      },
      "execution_count": null,
      "outputs": []
    },
    {
      "cell_type": "markdown",
      "source": [
        "`sklearn` kitabxanasının `classification_report` metodu verilən təxminlərin və doğru siniflərin əsasında hər sinifə uyğun və ümumi nəticələri əldə etməyə imkan verir."
      ],
      "metadata": {
        "id": "hw0lPQjphQss"
      }
    },
    {
      "cell_type": "code",
      "source": [
        "report = classification_report(labels, predictions, output_dict=True)"
      ],
      "metadata": {
        "id": "cUwWjegfFUZ2"
      },
      "execution_count": null,
      "outputs": []
    },
    {
      "cell_type": "code",
      "source": [
        "class_names, pres, recs, f1s, sups = [], [], [], [], []\n",
        "for c_res in report:\n",
        "  class_name = c_res\n",
        "  try:\n",
        "    class_name = all_topics[int(c_res)]\n",
        "  except:\n",
        "    pass\n",
        "  if 'accuracy' != class_name:\n",
        "    class_names.append(class_name)\n",
        "    pres.append(report[c_res]['precision'])\n",
        "    recs.append(report[c_res]['recall'])\n",
        "    f1s.append(report[c_res]['f1-score'])\n",
        "    sups.append(report[c_res]['support'])"
      ],
      "metadata": {
        "id": "jhEaY5GvHJsi"
      },
      "execution_count": null,
      "outputs": []
    },
    {
      "cell_type": "code",
      "source": [
        "df = pd.DataFrame([class_names, pres, recs, f1s, sups])\n",
        "df = df.transpose()\n",
        "df.columns=['Topic', 'Precision', 'Recall', 'F1', 'Support']"
      ],
      "metadata": {
        "id": "KzbIpTAOBwJj"
      },
      "execution_count": null,
      "outputs": []
    },
    {
      "cell_type": "code",
      "source": [
        "df.to_markdown(index=False)"
      ],
      "metadata": {
        "colab": {
          "base_uri": "https://localhost:8080/"
        },
        "id": "UhnWjJemCqYD",
        "outputId": "0802c507-fb73-448e-f584-8c38c73124bf"
      },
      "execution_count": null,
      "outputs": [
        {
          "output_type": "stream",
          "name": "stdout",
          "text": [
            "| Topic              |   Precision |   Recall |       F1 |   Support |\n",
            "|:-------------------|------------:|---------:|---------:|----------:|\n",
            "| Aqrar elmlər       |    0.703704 | 0.703704 | 0.703704 |        27 |\n",
            "| Astronomiya        |    0        | 0        | 0        |         2 |\n",
            "| Biologiya elmləri  |    0.886598 | 0.819048 | 0.851485 |       105 |\n",
            "| Coğrafiya          |    0.75     | 0.705882 | 0.727273 |        17 |\n",
            "| Filologiya elmləri |    0.91954  | 0.914286 | 0.916905 |       175 |\n",
            "| Fizika             |    0.710526 | 0.794118 | 0.75     |        34 |\n",
            "| Fəlsəfə            |    0.7      | 0.5      | 0.583333 |        14 |\n",
            "| Hüquq elmləri      |    1        | 1        | 1        |        29 |\n",
            "| Kimya              |    0.75     | 0.934426 | 0.832117 |        61 |\n",
            "| Memarlıq           |    1        | 0.4      | 0.571429 |         5 |\n",
            "| Mexanika           |    0        | 0        | 0        |         4 |\n",
            "| Pedaqogika         |    0.854545 | 1        | 0.921569 |        47 |\n",
            "| Psixologiya        |    0.823529 | 0.777778 | 0.8      |        18 |\n",
            "| Riyaziyyat         |    0.891892 | 0.846154 | 0.868421 |        39 |\n",
            "| Siyasi elmlər      |    0.785714 | 0.88     | 0.830189 |        25 |\n",
            "| Sosiologiya        |    0        | 0        | 0        |         4 |\n",
            "| Sənətşünaslıq      |    0.843137 | 0.914894 | 0.877551 |        47 |\n",
            "| Tarix              |    0.857143 | 0.846154 | 0.851613 |        78 |\n",
            "| Texnika elmləri    |    0.803922 | 0.788462 | 0.796117 |       104 |\n",
            "| Tibb elmləri       |    0.929936 | 0.986486 | 0.957377 |       148 |\n",
            "| Yer elmləri        |    0.692308 | 0.692308 | 0.692308 |        13 |\n",
            "| İqtisad elmləri    |    0.972603 | 0.934211 | 0.95302  |       152 |\n",
            "| Əczaçılıq elmləri  |    0        | 0        | 0        |         4 |\n",
            "| macro avg          |    0.690222 | 0.671213 | 0.673235 |      1152 |\n",
            "| weighted avg       |    0.862363 | 0.87066  | 0.864467 |      1152 |\n"
          ]
        }
      ]
    },
    {
      "cell_type": "markdown",
      "source": [
        "## Modeldən istifadə"
      ],
      "metadata": {
        "id": "M4QfbUpHM9D4"
      }
    },
    {
      "cell_type": "markdown",
      "source": [
        "Sazlama bitdikdən sonra əldə etdiyiniz modeli HuggingFace hesabınıza `.push_to_hub()` metodu ilə yükləyə bilərsiniz."
      ],
      "metadata": {
        "id": "FicChLSLhw_Q"
      }
    },
    {
      "cell_type": "code",
      "source": [
        "trainer.push_to_hub(hf_output_directory)"
      ],
      "metadata": {
        "id": "r2KTOwczTPg3"
      },
      "execution_count": null,
      "outputs": []
    },
    {
      "cell_type": "markdown",
      "source": [
        "`transformers` kitabxanasının `pipeline` modulu sazlanmış modeli sinifləndirmə əməliyyatı üçün asanlıqla istifadə etməyə kömək edir."
      ],
      "metadata": {
        "id": "aMlzES2AiOzD"
      }
    },
    {
      "cell_type": "code",
      "source": [
        "from transformers import pipeline\n",
        "\n",
        "pipe = pipeline(\"text-classification\", model=hf_output_directory)"
      ],
      "metadata": {
        "id": "VkrvsAk1Emd_"
      },
      "execution_count": null,
      "outputs": []
    },
    {
      "cell_type": "code",
      "source": [
        "pipe(\"XX əsrdə ABŞ-Çin münasibətlərinin təhlili\")"
      ],
      "metadata": {
        "id": "mzAhk-pmLB1c"
      },
      "execution_count": null,
      "outputs": []
    }
  ]
}